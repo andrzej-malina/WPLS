{
 "cells": [
  {
   "cell_type": "code",
   "execution_count": 44,
   "metadata": {},
   "outputs": [],
   "source": [
    "import requests\n",
    "import lxml.html as lh\n",
    "import pandas as pd"
   ]
  },
  {
   "cell_type": "code",
   "execution_count": 45,
   "metadata": {},
   "outputs": [],
   "source": [
    "url='http://www.plusliga.pl/statsPlayers/id/304.html'\n",
    "#Create a handle, page, to handle the contents of the website\n",
    "page = requests.get(url)\n",
    "#Store the contents of the website under doc\n",
    "doc = lh.fromstring(page.content)\n",
    "#Parse data that are stored between <tr>..</tr> of HTML\n",
    "tr_elements = doc.xpath('//tr')"
   ]
  },
  {
   "cell_type": "code",
   "execution_count": 55,
   "metadata": {},
   "outputs": [
    {
     "data": {
      "text/plain": [
       "[7,\n",
       " 19,\n",
       " 19,\n",
       " 7,\n",
       " 19,\n",
       " 19,\n",
       " 19,\n",
       " 19,\n",
       " 19,\n",
       " 19,\n",
       " 19,\n",
       " 19,\n",
       " 19,\n",
       " 19,\n",
       " 19,\n",
       " 19,\n",
       " 19,\n",
       " 19,\n",
       " 19,\n",
       " 19,\n",
       " 19,\n",
       " 19,\n",
       " 19,\n",
       " 19,\n",
       " 19,\n",
       " 19]"
      ]
     },
     "execution_count": 55,
     "metadata": {},
     "output_type": "execute_result"
    }
   ],
   "source": [
    "#Check the length of all the rows\n",
    "#we have two tables on the webpage\n",
    "#two rows are shorter (7 elements), because both tables on webpage have two header lines\n",
    "[len(T) for T in tr_elements[0:]]"
   ]
  },
  {
   "cell_type": "code",
   "execution_count": 57,
   "metadata": {},
   "outputs": [
    {
     "data": {
      "text/plain": [
       "19"
      ]
     },
     "execution_count": 57,
     "metadata": {},
     "output_type": "execute_result"
    }
   ],
   "source": [
    "row_width = len(tr_elements[4])\n",
    "row_width"
   ]
  },
  {
   "cell_type": "code",
   "execution_count": 84,
   "metadata": {},
   "outputs": [],
   "source": [
    "def create_headers(tr_elements):\n",
    "    #create empty list\n",
    "    col1=[]\n",
    "    i=0\n",
    "    \n",
    "    #store headers from first row in table\n",
    "    for t in tr_elements[0]:\n",
    "        i+=1\n",
    "        name=t.text_content()\n",
    "        col1.append(name)\n",
    "    \n",
    "    #create empty list\n",
    "    col2=[]\n",
    "    j=0\n",
    "    #store headers from second row in table\n",
    "    for t in tr_elements[1]:\n",
    "        j+=1\n",
    "        name=t.text_content()\n",
    "        col2.append(name)\n",
    "    \n",
    "    #create one header names for all table\n",
    "    col2[3]=col1[3] + '_' + col2[3]\n",
    "    col2[4]=col1[3] + '_' + col2[4]\n",
    "    col2[5]=col1[3] + '_' + col2[5]\n",
    "    col2[6]=col1[3] + '_' + col2[6]\n",
    "    col2[7]=col1[4] + '_' + col2[7]\n",
    "    col2[8]=col1[4] + '_' + col2[8]\n",
    "    col2[9]=col1[4] + '_' + col2[9]\n",
    "    col2[10]=col1[4] + '_' + col2[10]\n",
    "    col2[11]=col1[4] + '_' + col2[11]\n",
    "    col2[12]=col1[5] + '_' + col2[12]\n",
    "    col2[13]=col1[5] + '_' + col2[13]\n",
    "    col2[14]=col1[5] + '_' + col2[14]\n",
    "    col2[15]=col1[5] + '_' + col2[15]\n",
    "    col2[16]=col1[5] + '_' + col2[16]\n",
    "    col2[17]=col1[6] + '_' + col2[17]\n",
    "    col2[18]=col1[6] + '_' + col2[18]\n",
    "    \n",
    "    return col2"
   ]
  },
  {
   "cell_type": "code",
   "execution_count": 85,
   "metadata": {},
   "outputs": [
    {
     "data": {
      "text/plain": [
       "['Rozegrane mecze',\n",
       " 'Sety',\n",
       " 'Punkty',\n",
       " 'Zagrywka_Suma',\n",
       " 'Zagrywka_As',\n",
       " 'Zagrywka_Błąd',\n",
       " 'Zagrywka_Asy na set',\n",
       " 'Przyjęcie_Suma',\n",
       " 'Przyjęcie_Błąd',\n",
       " 'Przyjęcie_Neg',\n",
       " 'Przyjęcie_Perf',\n",
       " 'Przyjęcie_% perf',\n",
       " 'Atak_Suma',\n",
       " 'Atak_Błąd',\n",
       " 'Atak_Blok',\n",
       " 'Atak_Perf',\n",
       " 'Atak_% perf',\n",
       " 'Blok_Pkt',\n",
       " 'Blok_Pkt na set']"
      ]
     },
     "execution_count": 85,
     "metadata": {},
     "output_type": "execute_result"
    }
   ],
   "source": [
    "headers = create_headers(tr_elements)\n",
    "headers"
   ]
  },
  {
   "cell_type": "code",
   "execution_count": 95,
   "metadata": {},
   "outputs": [],
   "source": [
    "#Our data are stored on the second table, which is from 5th row onwards without last two rows\n",
    "for j in range(5,len(tr_elements)-2):\n",
    "    #T is our j'th row\n",
    "    T=tr_elements[j]\n",
    "    \n",
    "    #If row is not of size row_width (19), the //tr data is not from our table \n",
    "    if len(T)!=row_width:\n",
    "        break\n",
    "    \n",
    "    #i is the index of our column\n",
    "    i=0\n",
    "    \n",
    "    #Iterate through each element of the row\n",
    "    for t in T.iterchildren():\n",
    "        data=t.text_content() \n",
    "        #Check if row is empty\n",
    "        if i>0:\n",
    "        #Convert any numerical value to integers\n",
    "            try:\n",
    "                data=int(data)\n",
    "            except:\n",
    "                pass\n",
    "        #Append the data to the empty list of the i'th column\n",
    "        result = headers[i]+str(data)\n",
    "        #Increment i for the next column\n",
    "        i+=1"
   ]
  },
  {
   "cell_type": "code",
   "execution_count": 96,
   "metadata": {},
   "outputs": [
    {
     "data": {
      "text/plain": [
       "'Blok_Pkt na set0,02'"
      ]
     },
     "execution_count": 96,
     "metadata": {},
     "output_type": "execute_result"
    }
   ],
   "source": [
    "result"
   ]
  },
  {
   "cell_type": "code",
   "execution_count": 90,
   "metadata": {},
   "outputs": [
    {
     "data": {
      "text/plain": [
       "('R', 'o', 'z', 'e', 'g', 'r', 'a', 'n', 'e', ' ', 'm', 'e', 'c', 'z', 'e')"
      ]
     },
     "execution_count": 90,
     "metadata": {},
     "output_type": "execute_result"
    }
   ],
   "source": [
    "test = tuple(headers[0])\n",
    "test"
   ]
  },
  {
   "cell_type": "code",
   "execution_count": null,
   "metadata": {},
   "outputs": [],
   "source": []
  },
  {
   "cell_type": "code",
   "execution_count": null,
   "metadata": {},
   "outputs": [],
   "source": []
  },
  {
   "cell_type": "code",
   "execution_count": null,
   "metadata": {},
   "outputs": [],
   "source": []
  },
  {
   "cell_type": "code",
   "execution_count": null,
   "metadata": {},
   "outputs": [],
   "source": []
  },
  {
   "cell_type": "code",
   "execution_count": null,
   "metadata": {},
   "outputs": [],
   "source": []
  }
 ],
 "metadata": {
  "kernelspec": {
   "display_name": "Python 3",
   "language": "python",
   "name": "python3"
  },
  "language_info": {
   "codemirror_mode": {
    "name": "ipython",
    "version": 3
   },
   "file_extension": ".py",
   "mimetype": "text/x-python",
   "name": "python",
   "nbconvert_exporter": "python",
   "pygments_lexer": "ipython3",
   "version": "3.7.3"
  }
 },
 "nbformat": 4,
 "nbformat_minor": 2
}
